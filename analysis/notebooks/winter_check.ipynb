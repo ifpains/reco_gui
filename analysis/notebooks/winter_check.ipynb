{
 "cells": [
  {
   "cell_type": "code",
   "execution_count": 12,
   "metadata": {},
   "outputs": [],
   "source": [
    "from root_pandas import read_root\n",
    "import pandas as pd\n",
    "import numpy as np\n",
    "import seaborn as sns"
   ]
  },
  {
   "cell_type": "code",
   "execution_count": 18,
   "metadata": {},
   "outputs": [],
   "source": [
    "file_root = '../reco_run08006_3D_unet_p0.root'\n",
    "output_rec_df = read_root(file_root)\n",
    "output_rec_exp_df = output_rec_df[['run', 'event', 'nSc', 'sc_integral']].explode('sc_integral')\n",
    "total_energy_df = output_rec_exp_df.groupby(['run', 'event']).agg({'sc_integral': 'sum'}).reset_index()"
   ]
  },
  {
   "cell_type": "code",
   "execution_count": 19,
   "metadata": {},
   "outputs": [],
   "source": [
    "total_energy_df.to_csv('../total_energy_df_winter22_unet.csv')"
   ]
  },
  {
   "cell_type": "code",
   "execution_count": 20,
   "metadata": {},
   "outputs": [
    {
     "data": {
      "text/html": [
       "<div>\n",
       "<style scoped>\n",
       "    .dataframe tbody tr th:only-of-type {\n",
       "        vertical-align: middle;\n",
       "    }\n",
       "\n",
       "    .dataframe tbody tr th {\n",
       "        vertical-align: top;\n",
       "    }\n",
       "\n",
       "    .dataframe thead th {\n",
       "        text-align: right;\n",
       "    }\n",
       "</style>\n",
       "<table border=\"1\" class=\"dataframe\">\n",
       "  <thead>\n",
       "    <tr style=\"text-align: right;\">\n",
       "      <th></th>\n",
       "      <th>run</th>\n",
       "      <th>event</th>\n",
       "      <th>sc_integral</th>\n",
       "    </tr>\n",
       "  </thead>\n",
       "  <tbody>\n",
       "    <tr>\n",
       "      <th>0</th>\n",
       "      <td>8006</td>\n",
       "      <td>0</td>\n",
       "      <td>31192.283203</td>\n",
       "    </tr>\n",
       "    <tr>\n",
       "      <th>1</th>\n",
       "      <td>8006</td>\n",
       "      <td>1</td>\n",
       "      <td>31154.910156</td>\n",
       "    </tr>\n",
       "    <tr>\n",
       "      <th>2</th>\n",
       "      <td>8006</td>\n",
       "      <td>2</td>\n",
       "      <td>31141.558594</td>\n",
       "    </tr>\n",
       "    <tr>\n",
       "      <th>3</th>\n",
       "      <td>8006</td>\n",
       "      <td>3</td>\n",
       "      <td>30891.996094</td>\n",
       "    </tr>\n",
       "    <tr>\n",
       "      <th>4</th>\n",
       "      <td>8006</td>\n",
       "      <td>4</td>\n",
       "      <td>30305.349609</td>\n",
       "    </tr>\n",
       "    <tr>\n",
       "      <th>...</th>\n",
       "      <td>...</td>\n",
       "      <td>...</td>\n",
       "      <td>...</td>\n",
       "    </tr>\n",
       "    <tr>\n",
       "      <th>95</th>\n",
       "      <td>8006</td>\n",
       "      <td>95</td>\n",
       "      <td>30572.851562</td>\n",
       "    </tr>\n",
       "    <tr>\n",
       "      <th>96</th>\n",
       "      <td>8006</td>\n",
       "      <td>96</td>\n",
       "      <td>31817.626953</td>\n",
       "    </tr>\n",
       "    <tr>\n",
       "      <th>97</th>\n",
       "      <td>8006</td>\n",
       "      <td>97</td>\n",
       "      <td>31007.660156</td>\n",
       "    </tr>\n",
       "    <tr>\n",
       "      <th>98</th>\n",
       "      <td>8006</td>\n",
       "      <td>98</td>\n",
       "      <td>30896.746094</td>\n",
       "    </tr>\n",
       "    <tr>\n",
       "      <th>99</th>\n",
       "      <td>8006</td>\n",
       "      <td>99</td>\n",
       "      <td>30891.320312</td>\n",
       "    </tr>\n",
       "  </tbody>\n",
       "</table>\n",
       "<p>100 rows × 3 columns</p>\n",
       "</div>"
      ],
      "text/plain": [
       "     run  event   sc_integral\n",
       "0   8006      0  31192.283203\n",
       "1   8006      1  31154.910156\n",
       "2   8006      2  31141.558594\n",
       "3   8006      3  30891.996094\n",
       "4   8006      4  30305.349609\n",
       "..   ...    ...           ...\n",
       "95  8006     95  30572.851562\n",
       "96  8006     96  31817.626953\n",
       "97  8006     97  31007.660156\n",
       "98  8006     98  30896.746094\n",
       "99  8006     99  30891.320312\n",
       "\n",
       "[100 rows x 3 columns]"
      ]
     },
     "execution_count": 20,
     "metadata": {},
     "output_type": "execute_result"
    }
   ],
   "source": [
    "total_energy_df"
   ]
  },
  {
   "cell_type": "code",
   "execution_count": null,
   "metadata": {},
   "outputs": [],
   "source": []
  }
 ],
 "metadata": {
  "interpreter": {
   "hash": "f20a072d1056e51d30819b2820e9397047f5b47d1ec6ff2fef4ea36f5310e11b"
  },
  "kernelspec": {
   "display_name": "Python 3.7.8 ('numpy_root')",
   "language": "python",
   "name": "python3"
  },
  "language_info": {
   "codemirror_mode": {
    "name": "ipython",
    "version": 3
   },
   "file_extension": ".py",
   "mimetype": "text/x-python",
   "name": "python",
   "nbconvert_exporter": "python",
   "pygments_lexer": "ipython3",
   "version": "3.7.8"
  },
  "orig_nbformat": 4
 },
 "nbformat": 4,
 "nbformat_minor": 2
}
